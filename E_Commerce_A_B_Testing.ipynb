{
  "nbformat": 4,
  "nbformat_minor": 0,
  "metadata": {
    "colab": {
      "name": "E-Commerce A/B Testing.ipynb",
      "provenance": []
    },
    "kernelspec": {
      "name": "python3",
      "display_name": "Python 3"
    },
    "language_info": {
      "name": "python"
    }
  },
  "cells": [
    {
      "cell_type": "code",
      "source": [
        "#Import Packages\n",
        "import numpy as np\n",
        "import pandas as pd\n",
        "import scipy.stats as stats\n",
        "import statsmodels.stats.api as sms\n",
        "import datetime\n",
        "import seaborn as sns\n",
        "from math import ceil\n",
        "from statsmodels.stats.proportion import proportions_ztest, proportion_confint"
      ],
      "metadata": {
        "id": "QG1u46-FzlET"
      },
      "execution_count": 70,
      "outputs": []
    },
    {
      "cell_type": "markdown",
      "source": [
        "## **1. Penjelasan Eksperimen**\n",
        "\n"
      ],
      "metadata": {
        "id": "N29ZpCv511us"
      }
    },
    {
      "cell_type": "markdown",
      "source": [
        "Misalnya suatu perusahaan *E-Commerce* telah membuat versi desain baru dari halaman web yang dimilikinya. Diharapkan desain baru tersebut dapat meningkatkan tingkat konversi *(conversion rate)* halaman web. Dengan itu, kita dapat membagi pengguna *website* menjadi 2 grup:\n",
        "1. **control**: Pengunjung *website* lama\n",
        "2. **treatment**: Pengunjung *website* baru\n",
        "\n",
        "Diketahui tingkat konversi saat ini yaitu 12%, dan perusahaan membutuhkan peningkatan 1% atau desain baru halaman web sukses jika tingkat konversi meningkat menjadi 13%\n",
        "\n",
        "Tingkat konversi dapat dilihat dengan membagi jumlah pembeli dan jumlah pengunjung toko selama periode waktu tertentu (dalam kasus ini, 1 minggu) Kita dapat menggunakan variabel biner untuk menggambarkan fenomena tersebut:\n",
        "- **0**: user tidak membeli produk dalam waktu 7 hari dari paparan pertama\n",
        "-**1**: user melakukan pembelian produk dalam waktu 7 hari dari paparan pertama\n",
        "\n",
        "### **Ukuran sampel**\n",
        "\n",
        "Perlu diketahui kita tidak akan menguji seluruh basis pengguna (populasi) dikarenakan semakin besar sampel yang digunakan, maka semakin memakan waktu, biaya (dan tidak praktis) penelitian menjadi.\n",
        "\n",
        "Untuk mengestimasi ukuran sampel, kita akan gunakan **Power analysis** dengan:\n",
        "- **power of the test $(1-\\beta)$** : 0.9\n",
        "- **alpha $(\\alpha)$** : 0.05\n",
        "- **effect size** : besar perbedaan tingkat konversi yang diharapkan (dalam kasus ini, 2%)"
      ],
      "metadata": {
        "id": "MdhZaYshRgr0"
      }
    },
    {
      "cell_type": "code",
      "source": [
        "effect_size = sms.proportion_effectsize(0.12, 0.13) \n",
        "sample = sms.NormalIndPower().solve_power(effect_size, power=0.9, alpha=0.05, ratio=1)                                                  \n",
        "sample = ceil(sample)                         \n",
        "print(\"Kita membutuhkan setidaknya \" + str(sample) + \" pengamatan untuk setiap kelompok.\")"
      ],
      "metadata": {
        "colab": {
          "base_uri": "https://localhost:8080/"
        },
        "id": "8dGx3e9FDpdn",
        "outputId": "bf773aa7-f800-47cd-d661-c1fb0a095b76"
      },
      "execution_count": 71,
      "outputs": [
        {
          "output_type": "stream",
          "name": "stdout",
          "text": [
            "Kita membutuhkan setidaknya 22977 pengamatan untuk setiap kelompok.\n"
          ]
        }
      ]
    },
    {
      "cell_type": "markdown",
      "source": [
        "## **2. Pengumpulan Data**"
      ],
      "metadata": {
        "id": "woIe5BShREGo"
      }
    },
    {
      "cell_type": "markdown",
      "source": [
        "Setelah menemukan jumlah sampel yang sesuai untuk penelitian, saatnya mengumpulkan data yang sesuai dari perusahaan. Namun, karena kita menggunakan dataset yang ditemukan online pada [kaggle](https://www.kaggle.com/code/yanadav/a-b-testing-new-version-of-a-site/data) maka kita dapat mengambil sampel secara acak dari dataframe ketika dataset sudah dicek dan dibersihkan terlebih dahulu."
      ],
      "metadata": {
        "id": "hgctagOCRtEF"
      }
    },
    {
      "cell_type": "code",
      "source": [
        "df =pd.read_csv(\"ab_data.csv\")\n",
        "df.head()"
      ],
      "metadata": {
        "colab": {
          "base_uri": "https://localhost:8080/",
          "height": 206
        },
        "id": "f8wUNQZrzPsh",
        "outputId": "3f93ddf6-63ff-4d1a-8705-d10c4a83b0e7"
      },
      "execution_count": 72,
      "outputs": [
        {
          "output_type": "execute_result",
          "data": {
            "text/plain": [
              "   user_id                   timestamp      group landing_page  converted\n",
              "0   851104  2017-01-21 22:11:48.556739    control     old_page          0\n",
              "1   804228  2017-01-12 08:01:45.159739    control     old_page          0\n",
              "2   661590  2017-01-11 16:55:06.154213  treatment     new_page          0\n",
              "3   853541  2017-01-08 18:28:03.143765  treatment     new_page          0\n",
              "4   864975  2017-01-21 01:52:26.210827    control     old_page          1"
            ],
            "text/html": [
              "\n",
              "  <div id=\"df-6367efe0-38e7-4cd4-9933-448a92e69623\">\n",
              "    <div class=\"colab-df-container\">\n",
              "      <div>\n",
              "<style scoped>\n",
              "    .dataframe tbody tr th:only-of-type {\n",
              "        vertical-align: middle;\n",
              "    }\n",
              "\n",
              "    .dataframe tbody tr th {\n",
              "        vertical-align: top;\n",
              "    }\n",
              "\n",
              "    .dataframe thead th {\n",
              "        text-align: right;\n",
              "    }\n",
              "</style>\n",
              "<table border=\"1\" class=\"dataframe\">\n",
              "  <thead>\n",
              "    <tr style=\"text-align: right;\">\n",
              "      <th></th>\n",
              "      <th>user_id</th>\n",
              "      <th>timestamp</th>\n",
              "      <th>group</th>\n",
              "      <th>landing_page</th>\n",
              "      <th>converted</th>\n",
              "    </tr>\n",
              "  </thead>\n",
              "  <tbody>\n",
              "    <tr>\n",
              "      <th>0</th>\n",
              "      <td>851104</td>\n",
              "      <td>2017-01-21 22:11:48.556739</td>\n",
              "      <td>control</td>\n",
              "      <td>old_page</td>\n",
              "      <td>0</td>\n",
              "    </tr>\n",
              "    <tr>\n",
              "      <th>1</th>\n",
              "      <td>804228</td>\n",
              "      <td>2017-01-12 08:01:45.159739</td>\n",
              "      <td>control</td>\n",
              "      <td>old_page</td>\n",
              "      <td>0</td>\n",
              "    </tr>\n",
              "    <tr>\n",
              "      <th>2</th>\n",
              "      <td>661590</td>\n",
              "      <td>2017-01-11 16:55:06.154213</td>\n",
              "      <td>treatment</td>\n",
              "      <td>new_page</td>\n",
              "      <td>0</td>\n",
              "    </tr>\n",
              "    <tr>\n",
              "      <th>3</th>\n",
              "      <td>853541</td>\n",
              "      <td>2017-01-08 18:28:03.143765</td>\n",
              "      <td>treatment</td>\n",
              "      <td>new_page</td>\n",
              "      <td>0</td>\n",
              "    </tr>\n",
              "    <tr>\n",
              "      <th>4</th>\n",
              "      <td>864975</td>\n",
              "      <td>2017-01-21 01:52:26.210827</td>\n",
              "      <td>control</td>\n",
              "      <td>old_page</td>\n",
              "      <td>1</td>\n",
              "    </tr>\n",
              "  </tbody>\n",
              "</table>\n",
              "</div>\n",
              "      <button class=\"colab-df-convert\" onclick=\"convertToInteractive('df-6367efe0-38e7-4cd4-9933-448a92e69623')\"\n",
              "              title=\"Convert this dataframe to an interactive table.\"\n",
              "              style=\"display:none;\">\n",
              "        \n",
              "  <svg xmlns=\"http://www.w3.org/2000/svg\" height=\"24px\"viewBox=\"0 0 24 24\"\n",
              "       width=\"24px\">\n",
              "    <path d=\"M0 0h24v24H0V0z\" fill=\"none\"/>\n",
              "    <path d=\"M18.56 5.44l.94 2.06.94-2.06 2.06-.94-2.06-.94-.94-2.06-.94 2.06-2.06.94zm-11 1L8.5 8.5l.94-2.06 2.06-.94-2.06-.94L8.5 2.5l-.94 2.06-2.06.94zm10 10l.94 2.06.94-2.06 2.06-.94-2.06-.94-.94-2.06-.94 2.06-2.06.94z\"/><path d=\"M17.41 7.96l-1.37-1.37c-.4-.4-.92-.59-1.43-.59-.52 0-1.04.2-1.43.59L10.3 9.45l-7.72 7.72c-.78.78-.78 2.05 0 2.83L4 21.41c.39.39.9.59 1.41.59.51 0 1.02-.2 1.41-.59l7.78-7.78 2.81-2.81c.8-.78.8-2.07 0-2.86zM5.41 20L4 18.59l7.72-7.72 1.47 1.35L5.41 20z\"/>\n",
              "  </svg>\n",
              "      </button>\n",
              "      \n",
              "  <style>\n",
              "    .colab-df-container {\n",
              "      display:flex;\n",
              "      flex-wrap:wrap;\n",
              "      gap: 12px;\n",
              "    }\n",
              "\n",
              "    .colab-df-convert {\n",
              "      background-color: #E8F0FE;\n",
              "      border: none;\n",
              "      border-radius: 50%;\n",
              "      cursor: pointer;\n",
              "      display: none;\n",
              "      fill: #1967D2;\n",
              "      height: 32px;\n",
              "      padding: 0 0 0 0;\n",
              "      width: 32px;\n",
              "    }\n",
              "\n",
              "    .colab-df-convert:hover {\n",
              "      background-color: #E2EBFA;\n",
              "      box-shadow: 0px 1px 2px rgba(60, 64, 67, 0.3), 0px 1px 3px 1px rgba(60, 64, 67, 0.15);\n",
              "      fill: #174EA6;\n",
              "    }\n",
              "\n",
              "    [theme=dark] .colab-df-convert {\n",
              "      background-color: #3B4455;\n",
              "      fill: #D2E3FC;\n",
              "    }\n",
              "\n",
              "    [theme=dark] .colab-df-convert:hover {\n",
              "      background-color: #434B5C;\n",
              "      box-shadow: 0px 1px 3px 1px rgba(0, 0, 0, 0.15);\n",
              "      filter: drop-shadow(0px 1px 2px rgba(0, 0, 0, 0.3));\n",
              "      fill: #FFFFFF;\n",
              "    }\n",
              "  </style>\n",
              "\n",
              "      <script>\n",
              "        const buttonEl =\n",
              "          document.querySelector('#df-6367efe0-38e7-4cd4-9933-448a92e69623 button.colab-df-convert');\n",
              "        buttonEl.style.display =\n",
              "          google.colab.kernel.accessAllowed ? 'block' : 'none';\n",
              "\n",
              "        async function convertToInteractive(key) {\n",
              "          const element = document.querySelector('#df-6367efe0-38e7-4cd4-9933-448a92e69623');\n",
              "          const dataTable =\n",
              "            await google.colab.kernel.invokeFunction('convertToInteractive',\n",
              "                                                     [key], {});\n",
              "          if (!dataTable) return;\n",
              "\n",
              "          const docLinkHtml = 'Like what you see? Visit the ' +\n",
              "            '<a target=\"_blank\" href=https://colab.research.google.com/notebooks/data_table.ipynb>data table notebook</a>'\n",
              "            + ' to learn more about interactive tables.';\n",
              "          element.innerHTML = '';\n",
              "          dataTable['output_type'] = 'display_data';\n",
              "          await google.colab.output.renderOutput(dataTable, element);\n",
              "          const docLink = document.createElement('div');\n",
              "          docLink.innerHTML = docLinkHtml;\n",
              "          element.appendChild(docLink);\n",
              "        }\n",
              "      </script>\n",
              "    </div>\n",
              "  </div>\n",
              "  "
            ]
          },
          "metadata": {},
          "execution_count": 72
        }
      ]
    },
    {
      "cell_type": "code",
      "source": [
        "start_time = datetime.datetime.strptime(df['timestamp'].min(), '%Y-%m-%d %H:%M:%S.%f')\n",
        "end_time = datetime.datetime.strptime(df['timestamp'].max(), '%Y-%m-%d %H:%M:%S.%f')\n",
        "data_duration = (end_time - start_time).days\n",
        "\n",
        "print(f\"Data dikumpulkan selama {data_duration} hari\")\n",
        "print(f\"Persentase user grup control: {round(df[df['group']=='control'].shape[0] * 100 / df.shape[0])}%\")"
      ],
      "metadata": {
        "colab": {
          "base_uri": "https://localhost:8080/"
        },
        "id": "eRwB_Ss_D-Yn",
        "outputId": "5d9057bb-0ce5-474c-8e47-aa17125b2148"
      },
      "execution_count": 73,
      "outputs": [
        {
          "output_type": "stream",
          "name": "stdout",
          "text": [
            "Data dikumpulkan selama 21 hari\n",
            "Persentase user grup control: 50%\n"
          ]
        }
      ]
    },
    {
      "cell_type": "markdown",
      "source": [
        "## **3. Data Cleaning dan Preprocessing**"
      ],
      "metadata": {
        "id": "prG8uKiEV-z1"
      }
    },
    {
      "cell_type": "code",
      "source": [
        "#Melihat informasi dataset\n",
        "df.info()"
      ],
      "metadata": {
        "colab": {
          "base_uri": "https://localhost:8080/"
        },
        "id": "vMkHkj-JfDgx",
        "outputId": "54d20fa0-723d-4c2b-f724-3e6b7c079970"
      },
      "execution_count": 74,
      "outputs": [
        {
          "output_type": "stream",
          "name": "stdout",
          "text": [
            "<class 'pandas.core.frame.DataFrame'>\n",
            "RangeIndex: 294478 entries, 0 to 294477\n",
            "Data columns (total 5 columns):\n",
            " #   Column        Non-Null Count   Dtype \n",
            "---  ------        --------------   ----- \n",
            " 0   user_id       294478 non-null  int64 \n",
            " 1   timestamp     294478 non-null  object\n",
            " 2   group         294478 non-null  object\n",
            " 3   landing_page  294478 non-null  object\n",
            " 4   converted     294478 non-null  int64 \n",
            "dtypes: int64(2), object(3)\n",
            "memory usage: 11.2+ MB\n"
          ]
        }
      ]
    },
    {
      "cell_type": "code",
      "source": [
        "#memastikan tidak ada user sama yang mengunjungi halaman web lama dan baru\n",
        "counter = df['user_id'].value_counts()\n",
        "(counter > 1).value_counts()"
      ],
      "metadata": {
        "colab": {
          "base_uri": "https://localhost:8080/"
        },
        "id": "VTnJWl05VqMa",
        "outputId": "0fcdd10a-4b52-4353-922a-2cf568acdd41"
      },
      "execution_count": 75,
      "outputs": [
        {
          "output_type": "execute_result",
          "data": {
            "text/plain": [
              "False    286690\n",
              "True       3894\n",
              "Name: user_id, dtype: int64"
            ]
          },
          "metadata": {},
          "execution_count": 75
        }
      ]
    },
    {
      "cell_type": "markdown",
      "source": [
        "Sebanyak 3894 user yang muncul lebih dari satu kali dalam dataset. Karena jumlahnya cukup rendah $(1.35\\%)$ maka dapat langsung dikeluarkan dari dataframe. "
      ],
      "metadata": {
        "id": "oS9JJkQaY4lh"
      }
    },
    {
      "cell_type": "code",
      "source": [
        "#Mengeluarkan user yang sama\n",
        "valid_users = pd.DataFrame(counter[counter == 1].index, columns=['user_id'])\n",
        "df = df.merge(valid_users, on=['user_id'])"
      ],
      "metadata": {
        "id": "Hm9fcYEMWxIJ"
      },
      "execution_count": 76,
      "outputs": []
    },
    {
      "cell_type": "code",
      "source": [
        "#Pengecekan\n",
        "df['user_id'].duplicated().sum()"
      ],
      "metadata": {
        "colab": {
          "base_uri": "https://localhost:8080/"
        },
        "id": "oIdBoTaSphFd",
        "outputId": "c5cadffb-ffd3-4a28-d0fc-38bb565bf5d9"
      },
      "execution_count": 77,
      "outputs": [
        {
          "output_type": "execute_result",
          "data": {
            "text/plain": [
              "0"
            ]
          },
          "metadata": {},
          "execution_count": 77
        }
      ]
    },
    {
      "cell_type": "markdown",
      "source": [
        "### **Sampling**"
      ],
      "metadata": {
        "id": "VdxJUTSxbbch"
      }
    },
    {
      "cell_type": "markdown",
      "source": [
        "Sekarang, kita dapat melakukan Simple Random Sampling dengan bantuan pandas dan sampel n = 22977"
      ],
      "metadata": {
        "id": "Qb1UNxk2fmVR"
      }
    },
    {
      "cell_type": "code",
      "source": [
        "control_sample = df[df['group'] == 'control'].sample(n=sample, random_state=1)\n",
        "treatment_sample = df[df['group'] == 'treatment'].sample(n=sample, random_state=1)\n",
        "\n",
        "df1 = pd.concat([control_sample, treatment_sample], axis=0)\n",
        "df1.reset_index(drop=True, inplace=True)"
      ],
      "metadata": {
        "id": "HwOG9GEtapTV"
      },
      "execution_count": 78,
      "outputs": []
    },
    {
      "cell_type": "code",
      "source": [
        "df1.info()"
      ],
      "metadata": {
        "colab": {
          "base_uri": "https://localhost:8080/"
        },
        "id": "pG3KdAHKgSC2",
        "outputId": "632267dd-4ba6-4d26-d04d-e531ff64c74a"
      },
      "execution_count": 79,
      "outputs": [
        {
          "output_type": "stream",
          "name": "stdout",
          "text": [
            "<class 'pandas.core.frame.DataFrame'>\n",
            "RangeIndex: 45954 entries, 0 to 45953\n",
            "Data columns (total 5 columns):\n",
            " #   Column        Non-Null Count  Dtype \n",
            "---  ------        --------------  ----- \n",
            " 0   user_id       45954 non-null  int64 \n",
            " 1   timestamp     45954 non-null  object\n",
            " 2   group         45954 non-null  object\n",
            " 3   landing_page  45954 non-null  object\n",
            " 4   converted     45954 non-null  int64 \n",
            "dtypes: int64(2), object(3)\n",
            "memory usage: 1.8+ MB\n"
          ]
        }
      ]
    },
    {
      "cell_type": "code",
      "source": [
        "df1['group'].value_counts()"
      ],
      "metadata": {
        "colab": {
          "base_uri": "https://localhost:8080/"
        },
        "id": "icmYv0_kgql2",
        "outputId": "abc6cb31-eacf-4765-ebcd-3e274cdd2346"
      },
      "execution_count": 80,
      "outputs": [
        {
          "output_type": "execute_result",
          "data": {
            "text/plain": [
              "control      22977\n",
              "treatment    22977\n",
              "Name: group, dtype: int64"
            ]
          },
          "metadata": {},
          "execution_count": 80
        }
      ]
    },
    {
      "cell_type": "markdown",
      "source": [
        "## **4. Analisis Tingkat Konversi**"
      ],
      "metadata": {
        "id": "pO8XW_7nhvjS"
      }
    },
    {
      "cell_type": "code",
      "source": [
        "df1.groupby('group')['converted'].mean()*100"
      ],
      "metadata": {
        "colab": {
          "base_uri": "https://localhost:8080/"
        },
        "id": "CnQUR_eUlomy",
        "outputId": "0af145f2-e947-414d-d596-612bfd26cb84"
      },
      "execution_count": 81,
      "outputs": [
        {
          "output_type": "execute_result",
          "data": {
            "text/plain": [
              "group\n",
              "control      11.846629\n",
              "treatment    11.594203\n",
              "Name: converted, dtype: float64"
            ]
          },
          "metadata": {},
          "execution_count": 81
        }
      ]
    },
    {
      "cell_type": "markdown",
      "source": [
        "Dilihat dari statistik di atas, sepertinya kedua desain tampil sangat mirip, dengan desain baru berkinerja lebih buruk, kira-kira. Tingkat konversi didapatkan 11.8% untuk grup control (desain *website* lama) vs. 11.6% untuk grup treatment (desain *website* baru)"
      ],
      "metadata": {
        "id": "LSFgbcvtj9-_"
      }
    },
    {
      "cell_type": "code",
      "source": [
        "#Visualisasi tingkat konversi kedua kelompok\n",
        "sns.barplot(x=df1['group'], y=df1['converted'], ci=False)"
      ],
      "metadata": {
        "colab": {
          "base_uri": "https://localhost:8080/",
          "height": 297
        },
        "id": "cVHw6JeqjjhY",
        "outputId": "b6841be8-5dae-46fa-9ac6-6a1f21c4869e"
      },
      "execution_count": 82,
      "outputs": [
        {
          "output_type": "execute_result",
          "data": {
            "text/plain": [
              "<matplotlib.axes._subplots.AxesSubplot at 0x7fa887934dd0>"
            ]
          },
          "metadata": {},
          "execution_count": 82
        },
        {
          "output_type": "display_data",
          "data": {
            "text/plain": [
              "<Figure size 432x288 with 1 Axes>"
            ],
            "image/png": "[encoded data removed]"
          },
          "metadata": {
            "needs_background": "light"
          }
        }
      ]
    },
    {
      "cell_type": "markdown",
      "source": [
        "Tingkat konversi kedua grup dapat terlihat perbedaannya, namun terlihat sangat kecil. Nilai grup treatment lebih rendah mengindikasikan gagalnya usaha peningkatan tingkat konversi *website* dengan desain baru. Namun, kita tidak boleh mengambil kesimpulan langsung. Perlu diketahui apakah perbedaan antara grup control dengan grup treatment **signifikan secara statistika.**"
      ],
      "metadata": {
        "id": "rcADI8v2nEo_"
      }
    },
    {
      "cell_type": "markdown",
      "source": [
        "## **5. Menguji Hipotesis**"
      ],
      "metadata": {
        "id": "CIbLp-yroLie"
      }
    },
    {
      "cell_type": "markdown",
      "source": [
        "### **Z-Test**"
      ],
      "metadata": {
        "id": "nwiFi_X9sdUg"
      }
    },
    {
      "cell_type": "markdown",
      "source": [
        "Dalam kasus ini, karena ukuran sampel sangat besar, berdasarkan Teori Limit Pusat *(Central Limit Theorem)* distribusi samplingnya akan mendekati distribusi normal, sehingga kita dapat menggunakan *Z-test* (uji z) \n",
        "\n",
        "Hipotesisnya:\n",
        "<center> $H_0$: Perbedaan proporsi tidak signifikan\n",
        "<center> $H_1$: Perbedaan proporsi signifikan"
      ],
      "metadata": {
        "id": "esepPhBzozsj"
      }
    },
    {
      "cell_type": "markdown",
      "source": [
        "Tingkat kepercayaan:\n",
        "\n",
        "$(\\alpha)=0.05$"
      ],
      "metadata": {
        "id": "cFHExyRtj6jZ"
      }
    },
    {
      "cell_type": "code",
      "source": [
        "#Uji Statistik:\n",
        "\n",
        "control = df1[df1['group'] == 'control']['converted']\n",
        "treatment = df1[df1['group'] == 'treatment']['converted']\n",
        "\n",
        "trials = [control.count(), treatment.count()]\n",
        "successes = [control.sum(), treatment.sum()]\n",
        "\n",
        "z_stat, pval = proportions_ztest(successes, trials, alternative='two-sided')\n",
        "(lower_con, lower_treat), (upper_con, upper_treat) = proportion_confint(successes, trials, alpha=0.05)\n",
        "\n",
        "print(f'z statistic: {z_stat:.3f}')\n",
        "print(f'p-value: {pval:.3f}')\n",
        "if pval < 0.05:\n",
        "    print('Hipotesis nol ditolak: Terdapat perbedaan signifikan antar proporsi')\n",
        "else:\n",
        "    print('Hipotesis nol gagal ditolak, tidak terdapat cukup bukti untuk mengatakan proporsi signifikan')\n",
        "print('********************************************************')\n",
        "print(f'95% Confidence interval for control group: [{lower_con:.3f}, {upper_con:.3f}]')\n",
        "print(f'95% Confidence interval for treatment group: [{lower_treat:.3f}, {upper_treat:.3f}]')"
      ],
      "metadata": {
        "id": "XT2CSoiyk3QM",
        "colab": {
          "base_uri": "https://localhost:8080/"
        },
        "outputId": "4ebae025-7368-485d-dc4c-e3eee13c2333"
      },
      "execution_count": 83,
      "outputs": [
        {
          "output_type": "stream",
          "name": "stdout",
          "text": [
            "z statistic: 0.841\n",
            "p-value: 0.400\n",
            "Hipotesis nol gagal ditolak, tidak terdapat cukup bukti untuk mengatakan proporsi signifikan\n",
            "********************************************************\n",
            "95% Confidence interval for control group: [0.114, 0.123]\n",
            "95% Confidence interval for treatment group: [0.112, 0.120]\n"
          ]
        }
      ]
    },
    {
      "cell_type": "markdown",
      "source": [
        "Kesimpulan: \n",
        "\n",
        "Karena $p$-value = $0.4>0.05=\\alpha$, maka $H_0$ gagal ditolak. Artinya, desain baru *website* tidak berbeda secara signifikan dari desain lama."
      ],
      "metadata": {
        "id": "VRjU9cE9p8bA"
      }
    },
    {
      "cell_type": "markdown",
      "source": [
        "### **Chi-Squared Test**"
      ],
      "metadata": {
        "id": "K2rr15n2skIf"
      }
    },
    {
      "cell_type": "markdown",
      "source": [
        "*Chi-squared test* ($\\chi^2$ test) juga dapat digunakan dalam penelitian, karena kita melakukan pengujian A/B pada tingkat konversi yang merupakan variabel kategorik. Ia mengikuti distribusi probabilitas diskrit yang memiliki probabilitas 1 dan probabilitas 0.\n",
        "\n",
        "Dalam kasus ini, perhatikan kolom *converted* atau tingkat konversi. Pengguna akan melakukan pembelian (1) atau tidak melakukan pembelian (0)\n",
        "\n",
        "Jika kita membuat tabel kontingensi 2x2 untuk frekuensi yang diamati dan membandingkannya dengan tabel kontingensi 2x2 untuk frekuensi yang diharapkan, kita dapat melakukan uji $\\chi^2$ dengan Hipotesis:\n",
        "\n",
        "<center> $H_0$: Tidak ada hubungan antara grup kontrol (control) dan perlakuan (treatment)\n",
        "<center> $H_1$: Terdapat hubungan antara grup kontrol  (control) dan perlakuan (treatment)\n"
      ],
      "metadata": {
        "id": "8k0O2xYrswTi"
      }
    },
    {
      "cell_type": "markdown",
      "source": [
        "Sebagai referensi, tabel kontingensi 2x2 akan memiliki dua kelompok: treatment/control atau converted/not converted. Terdapat 4 perhitungan yang akan ada di tabel:\n",
        "\n",
        "1. Control, converted \n",
        "2. Treatment, converted \n",
        "3. Control, not converted\n",
        "4. Treatment, not converted"
      ],
      "metadata": {
        "id": "0zUJpbaI0rbM"
      }
    },
    {
      "cell_type": "code",
      "source": [
        "#Perhitungan tabel kontingensi\n",
        "control = df1[df1['group']=='control']\n",
        "treatment = df1[df1['group']=='treatment']\n",
        "\n",
        "control_converted = control['converted'].sum()\n",
        "treatment_converted = treatment['converted'].sum()\n",
        "control_non_converted = control['converted'].count() - control_converted\n",
        "treatment_non_converted = treatment['converted'].count() - treatment_converted\n",
        "\n",
        "#Membuat tabel kontingensi\n",
        "chi = np.array([[control_converted, control_non_converted], \n",
        "                              [treatment_converted, treatment_non_converted]])\n",
        "chi"
      ],
      "metadata": {
        "colab": {
          "base_uri": "https://localhost:8080/"
        },
        "id": "00FnOPT5pcb_",
        "outputId": "f2156482-65df-48f7-8c99-8fd43fe75183"
      },
      "execution_count": 84,
      "outputs": [
        {
          "output_type": "execute_result",
          "data": {
            "text/plain": [
              "array([[ 2722, 20255],\n",
              "       [ 2664, 20313]])"
            ]
          },
          "metadata": {},
          "execution_count": 84
        }
      ]
    },
    {
      "cell_type": "code",
      "source": [
        "print(stats.chi2_contingency(chi,correction=False)[1])"
      ],
      "metadata": {
        "colab": {
          "base_uri": "https://localhost:8080/"
        },
        "id": "AWqKz7EB3pwe",
        "outputId": "d198d4b3-d684-4f91-ea91-3414d43758e9"
      },
      "execution_count": 85,
      "outputs": [
        {
          "output_type": "stream",
          "name": "stdout",
          "text": [
            "0.40027342076204153\n"
          ]
        }
      ]
    },
    {
      "cell_type": "markdown",
      "source": [
        "Kesimpulan: \n",
        "\n",
        "Karena $p$-value = $0.4>0.05=\\alpha$, maka $H_0$ gagal ditolak. Artinya, desain baru *website* tidak berbeda secara signifikan dari desain lama."
      ],
      "metadata": {
        "id": "c_noiK6r47RY"
      }
    },
    {
      "cell_type": "markdown",
      "source": [
        "## **6. Rekomendasi**"
      ],
      "metadata": {
        "id": "LN_lqDP55R8S"
      }
    },
    {
      "cell_type": "markdown",
      "source": [
        "Eksperimen A/B Testing ini dirancang untuk menentukan apakah desain *website*  baru perusahaan *e-commerce* akan meningkatkan tingkat konversi penggunanya dibandingkan dengan desain *website* lama.\n",
        "\n",
        "Setelah pemeriksaan, persyaratan ukuran sampel minimum, dan beberapa metode statistik untuk menentukan *outcome* uji A/B, Dapat dilihat bahwa tujuan dasar perusahaan belum tercapai dengan desain *website* baru mereka. \n",
        "\n",
        "Dengan demikian, kami menyarankan untuk tidak melanjutkan perbaruan desain *website*, tetapi melakukan eksperimen lain."
      ],
      "metadata": {
        "id": "ha1RjOhQ5dKG"
      }
    },
    {
      "cell_type": "code",
      "source": [],
      "metadata": {
        "id": "_ggcibRd--5s"
      },
      "execution_count": null,
      "outputs": []
    }
  ]
}